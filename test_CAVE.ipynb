{
 "cells": [
  {
   "cell_type": "code",
   "execution_count": 24,
   "metadata": {},
   "outputs": [],
   "source": [
    "from caveclient import CAVEclient\n",
    "import numpy as np\n",
    "import pandas as pd\n",
    "from time import sleep\n",
    "from requests.exceptions import HTTPError\n",
    "\n",
    "class CAVE:\n",
    "\n",
    "    @staticmethod\n",
    "    def get_cell_type(pt_root_id, cell_df):\n",
    "        try:\n",
    "            return cell_df[cell_df['pt_root_id'] == pt_root_id]['cell_type'].to_list()[0]\n",
    "        except KeyError:\n",
    "            return \"Unknown\"\n",
    "        except IndexError:\n",
    "            return \"Unknown\"\n",
    "        \n",
    "    @staticmethod\n",
    "    def rescale_position(position):\n",
    "        scale_vector = np.array([4/1000, 4/1000, 40/1000])\n",
    "        return position * scale_vector\n",
    "\n",
    "    def __init__(self, version='v343'):\n",
    "        self.version = version\n",
    "        self.client = CAVEclient(f'minnie65_public_{version}')\n",
    "\n",
    "    def download_cells(self, filter_dict):\n",
    "        cell_df = self.client.materialize.query_table('aibs_soma_nuc_metamodel_preds_v117',\n",
    "                                                      filter_in_dict = filter_dict,\n",
    "                                                      select_columns=['pt_root_id', 'cell_type', 'pt_position'])\n",
    "        \n",
    "        cell_df['pt_position'] = cell_df['pt_position'].apply(CAVE.rescale_position)\n",
    "        position_df = cell_df['pt_position'].apply(pd.Series)\n",
    "        position_df.columns = ['pt_x', 'pt_y', 'pt_z']\n",
    "\n",
    "        cell_df = cell_df.drop('pt_position', axis=1)\n",
    "        cell_df = pd.concat([cell_df, position_df], axis=1)\n",
    "\n",
    "        # remove rows with identical pt_root_id\n",
    "        cell_df = cell_df.drop_duplicates(subset=['pt_root_id'])\n",
    "        return cell_df\n",
    "\n",
    "    def download_excitatory_cells(self):\n",
    "        filter_dict = {'cell_type': ['23P', '4P', '5P-IT', '5P-ET', '5P-NP', '6P-IT', '6P-CT']}\n",
    "        return self.download_cells(filter_dict)\n",
    "\n",
    "    def download_inhibitory_cells(self):\n",
    "        filter_dict = {'cell_type': ['BC', 'MC', 'BPC', 'NGC']}\n",
    "        return self.download_cells(filter_dict)\n",
    "\n",
    "    def download_synapses(self, filter_dict, cell_df=None):\n",
    "\n",
    "        syn_df = self.client.materialize.query_table('synapses_pni_2',\n",
    "                                                    filter_in_dict = filter_dict,\n",
    "                                                    select_columns=['id', 'pre_pt_root_id', 'post_pt_root_id', 'ctr_pt_position', 'size'])\n",
    "        \n",
    "        if cell_df is not None:\n",
    "            syn_df['cell_type_pre'] = syn_df['pre_pt_root_id'].apply(lambda x: CAVE.get_cell_type(x, cell_df))\n",
    "            syn_df['cell_type_post'] = syn_df['post_pt_root_id'].apply(lambda x: CAVE.get_cell_type(x, cell_df))\n",
    "        else:\n",
    "            syn_df['cell_type_pre'] = 'Unknown'\n",
    "            syn_df['cell_type_post'] = 'Unknown'\n",
    "        \n",
    "        syn_df['ctr_pt_position'] = syn_df['ctr_pt_position'].apply(CAVE.rescale_position)\n",
    "        position_df = syn_df['ctr_pt_position'].apply(pd.Series)\n",
    "        position_df.columns = ['ctr_pt_x', 'ctr_pt_y', 'ctr_pt_z']\n",
    "\n",
    "        syn_df = syn_df.drop('ctr_pt_position', axis=1)\n",
    "        syn_df = pd.concat([syn_df, position_df], axis=1)\n",
    "\n",
    "        return syn_df\n",
    "    \n",
    "    def download_input_synapses(self, post_pt_root_ids, cell_df=None):\n",
    "        if type(post_pt_root_ids) == int:\n",
    "            post_pt_root_ids = [post_pt_root_ids]\n",
    "\n",
    "        filter_dict = {'post_pt_root_id': post_pt_root_ids}\n",
    "        syn_df = self.download_synapses(filter_dict, cell_df)\n",
    "\n",
    "        if len(syn_df) >= 500000:\n",
    "            chunk_1 = post_pt_root_ids[:len(post_pt_root_ids)//2]\n",
    "            filter_dict_1 = {'post_pt_root_id': chunk_1}\n",
    "            chunk_2 = post_pt_root_ids[len(post_pt_root_ids)//2:]\n",
    "            filter_dict_2 = {'post_pt_root_id': chunk_2}\n",
    "            syn_df_1 = self.download_synapses(filter_dict_1, cell_df)\n",
    "            syn_df_2 = self.download_synapses(filter_dict_2, cell_df)\n",
    "            syn_df = pd.concat([syn_df_1, syn_df_2], axis=0)\n",
    "\n",
    "        return syn_df\n",
    "\n",
    "    def download_output_synapses(self, pre_pt_root_ids, cell_df=None):\n",
    "        if type(pre_pt_root_ids) == int:\n",
    "            pre_pt_root_ids = [pre_pt_root_ids]\n",
    "\n",
    "        filter_dict = {'pre_pt_root_id': pre_pt_root_ids}\n",
    "        syn_df = self.download_synapses(filter_dict, cell_df)\n",
    "\n",
    "        if len(syn_df) >= 500000:\n",
    "            chunk_1 = pre_pt_root_ids[:len(pre_pt_root_ids)//2]\n",
    "            filter_dict_1 = {'pre_pt_root_id': chunk_1}\n",
    "            chunk_2 = pre_pt_root_ids[len(pre_pt_root_ids)//2:]\n",
    "            filter_dict_2 = {'pre_pt_root_id': chunk_2}\n",
    "            syn_df_1 = self.download_synapses(filter_dict_1, cell_df)\n",
    "            syn_df_2 = self.download_synapses(filter_dict_2, cell_df)\n",
    "            syn_df = pd.concat([syn_df_1, syn_df_2], axis=0)\n",
    "        \n",
    "        return syn_df\n",
    "\n",
    "    def download_input_synapses_list(self, post_pt_root_ids, cell_df=None, timeout=600, chunk_size=150):\n",
    "        num_chunks = int(np.ceil((len(post_pt_root_ids))/chunk_size))\n",
    "        for chunk in range(num_chunks):\n",
    "            chunk_ids = post_pt_root_ids[chunk*chunk_size:(chunk+1)*chunk_size]\n",
    "            try:\n",
    "                syn_df = self.download_input_synapses(chunk_ids, cell_df)\n",
    "            except HTTPError:\n",
    "                print(f\"Chunk {chunk} failed, retrying\")\n",
    "                sleep(timeout)\n",
    "                syn_df = self.download_input_synapses(chunk_ids, cell_df)\n",
    "            yield syn_df, chunk_ids\n",
    "\n",
    "    def download_output_synapses_list(self, pre_pt_root_ids, cell_df=None, timeout=600, chunk_size=750):\n",
    "        num_chunks = int(np.ceil((len(pre_pt_root_ids))/chunk_size))\n",
    "        for chunk in range(num_chunks):\n",
    "            chunk_ids = pre_pt_root_ids[chunk*chunk_size:(chunk+1)*chunk_size]\n",
    "            try:\n",
    "                syn_df = self.download_output_synapses(chunk_ids, cell_df)\n",
    "            except HTTPError:\n",
    "                print(f\"Chunk {chunk} failed, retrying\")\n",
    "                sleep(timeout)\n",
    "                syn_df = self.download_output_synapses(chunk_ids, cell_df)\n",
    "            yield syn_df, chunk_ids"
   ]
  },
  {
   "cell_type": "code",
   "execution_count": 25,
   "metadata": {},
   "outputs": [],
   "source": [
    "client = CAVE()"
   ]
  },
  {
   "cell_type": "code",
   "execution_count": 3,
   "metadata": {},
   "outputs": [
    {
     "name": "stderr",
     "output_type": "stream",
     "text": [
      "Using deprecated pyarrow serialization method, please upgrade CAVEClient>=5.9.0 with pip install --upgrade caveclient\n"
     ]
    }
   ],
   "source": [
    "inh_cells = client.download_inhibitory_cells()"
   ]
  },
  {
   "cell_type": "code",
   "execution_count": 4,
   "metadata": {},
   "outputs": [
    {
     "data": {
      "text/html": [
       "<div>\n",
       "<style scoped>\n",
       "    .dataframe tbody tr th:only-of-type {\n",
       "        vertical-align: middle;\n",
       "    }\n",
       "\n",
       "    .dataframe tbody tr th {\n",
       "        vertical-align: top;\n",
       "    }\n",
       "\n",
       "    .dataframe thead th {\n",
       "        text-align: right;\n",
       "    }\n",
       "</style>\n",
       "<table border=\"1\" class=\"dataframe\">\n",
       "  <thead>\n",
       "    <tr style=\"text-align: right;\">\n",
       "      <th></th>\n",
       "      <th>pt_root_id</th>\n",
       "      <th>cell_type</th>\n",
       "      <th>pt_x</th>\n",
       "      <th>pt_y</th>\n",
       "      <th>pt_z</th>\n",
       "    </tr>\n",
       "  </thead>\n",
       "  <tbody>\n",
       "    <tr>\n",
       "      <th>0</th>\n",
       "      <td>864691135207734905</td>\n",
       "      <td>NGC</td>\n",
       "      <td>324.032</td>\n",
       "      <td>432.960</td>\n",
       "      <td>679.80</td>\n",
       "    </tr>\n",
       "    <tr>\n",
       "      <th>1</th>\n",
       "      <td>864691135758479438</td>\n",
       "      <td>NGC</td>\n",
       "      <td>309.568</td>\n",
       "      <td>421.120</td>\n",
       "      <td>706.00</td>\n",
       "    </tr>\n",
       "    <tr>\n",
       "      <th>2</th>\n",
       "      <td>864691135535098473</td>\n",
       "      <td>NGC</td>\n",
       "      <td>293.248</td>\n",
       "      <td>416.960</td>\n",
       "      <td>853.36</td>\n",
       "    </tr>\n",
       "    <tr>\n",
       "      <th>3</th>\n",
       "      <td>864691136143741847</td>\n",
       "      <td>MC</td>\n",
       "      <td>315.776</td>\n",
       "      <td>441.472</td>\n",
       "      <td>844.24</td>\n",
       "    </tr>\n",
       "    <tr>\n",
       "      <th>4</th>\n",
       "      <td>864691136745551332</td>\n",
       "      <td>MC</td>\n",
       "      <td>314.432</td>\n",
       "      <td>476.736</td>\n",
       "      <td>681.08</td>\n",
       "    </tr>\n",
       "  </tbody>\n",
       "</table>\n",
       "</div>"
      ],
      "text/plain": [
       "           pt_root_id cell_type     pt_x     pt_y    pt_z\n",
       "0  864691135207734905       NGC  324.032  432.960  679.80\n",
       "1  864691135758479438       NGC  309.568  421.120  706.00\n",
       "2  864691135535098473       NGC  293.248  416.960  853.36\n",
       "3  864691136143741847        MC  315.776  441.472  844.24\n",
       "4  864691136745551332        MC  314.432  476.736  681.08"
      ]
     },
     "execution_count": 4,
     "metadata": {},
     "output_type": "execute_result"
    }
   ],
   "source": [
    "inh_cells.head()"
   ]
  },
  {
   "cell_type": "code",
   "execution_count": 5,
   "metadata": {},
   "outputs": [
    {
     "data": {
      "text/plain": [
       "True"
      ]
     },
     "execution_count": 5,
     "metadata": {},
     "output_type": "execute_result"
    }
   ],
   "source": [
    "# check if any rows have the same pt_root_id\n",
    "len(inh_cells) == len(inh_cells.drop_duplicates(subset=['pt_root_id']))"
   ]
  },
  {
   "cell_type": "code",
   "execution_count": 6,
   "metadata": {},
   "outputs": [
    {
     "name": "stderr",
     "output_type": "stream",
     "text": [
      "Using deprecated pyarrow serialization method, please upgrade CAVEClient>=5.9.0 with pip install --upgrade caveclient\n"
     ]
    }
   ],
   "source": [
    "exc_cells = client.download_excitatory_cells()"
   ]
  },
  {
   "cell_type": "code",
   "execution_count": 9,
   "metadata": {},
   "outputs": [
    {
     "data": {
      "text/html": [
       "<div>\n",
       "<style scoped>\n",
       "    .dataframe tbody tr th:only-of-type {\n",
       "        vertical-align: middle;\n",
       "    }\n",
       "\n",
       "    .dataframe tbody tr th {\n",
       "        vertical-align: top;\n",
       "    }\n",
       "\n",
       "    .dataframe thead th {\n",
       "        text-align: right;\n",
       "    }\n",
       "</style>\n",
       "<table border=\"1\" class=\"dataframe\">\n",
       "  <thead>\n",
       "    <tr style=\"text-align: right;\">\n",
       "      <th></th>\n",
       "      <th>pt_root_id</th>\n",
       "      <th>cell_type</th>\n",
       "      <th>pt_x</th>\n",
       "      <th>pt_y</th>\n",
       "      <th>pt_z</th>\n",
       "    </tr>\n",
       "  </thead>\n",
       "  <tbody>\n",
       "    <tr>\n",
       "      <th>0</th>\n",
       "      <td>864691135639004475</td>\n",
       "      <td>23P</td>\n",
       "      <td>284.544</td>\n",
       "      <td>442.112</td>\n",
       "      <td>808.80</td>\n",
       "    </tr>\n",
       "    <tr>\n",
       "      <th>1</th>\n",
       "      <td>864691135771677771</td>\n",
       "      <td>23P</td>\n",
       "      <td>290.304</td>\n",
       "      <td>434.624</td>\n",
       "      <td>811.64</td>\n",
       "    </tr>\n",
       "    <tr>\n",
       "      <th>2</th>\n",
       "      <td>864691135864089470</td>\n",
       "      <td>23P</td>\n",
       "      <td>318.528</td>\n",
       "      <td>485.824</td>\n",
       "      <td>670.16</td>\n",
       "    </tr>\n",
       "    <tr>\n",
       "      <th>3</th>\n",
       "      <td>864691135560505569</td>\n",
       "      <td>23P</td>\n",
       "      <td>320.512</td>\n",
       "      <td>496.000</td>\n",
       "      <td>662.52</td>\n",
       "    </tr>\n",
       "    <tr>\n",
       "      <th>4</th>\n",
       "      <td>864691136315868311</td>\n",
       "      <td>23P</td>\n",
       "      <td>320.576</td>\n",
       "      <td>507.712</td>\n",
       "      <td>664.88</td>\n",
       "    </tr>\n",
       "  </tbody>\n",
       "</table>\n",
       "</div>"
      ],
      "text/plain": [
       "           pt_root_id cell_type     pt_x     pt_y    pt_z\n",
       "0  864691135639004475       23P  284.544  442.112  808.80\n",
       "1  864691135771677771       23P  290.304  434.624  811.64\n",
       "2  864691135864089470       23P  318.528  485.824  670.16\n",
       "3  864691135560505569       23P  320.512  496.000  662.52\n",
       "4  864691136315868311       23P  320.576  507.712  664.88"
      ]
     },
     "execution_count": 9,
     "metadata": {},
     "output_type": "execute_result"
    }
   ],
   "source": [
    "exc_cells.head()"
   ]
  },
  {
   "cell_type": "code",
   "execution_count": 10,
   "metadata": {},
   "outputs": [
    {
     "data": {
      "text/plain": [
       "True"
      ]
     },
     "execution_count": 10,
     "metadata": {},
     "output_type": "execute_result"
    }
   ],
   "source": [
    "# check if any rows have the same pt_root_id\n",
    "len(exc_cells) == len(exc_cells.drop_duplicates(subset=['pt_root_id']))"
   ]
  },
  {
   "cell_type": "code",
   "execution_count": 11,
   "metadata": {},
   "outputs": [],
   "source": [
    "inh_cells.to_csv('./data/inh_cells.csv', index=False)\n",
    "exc_cells.to_csv('./data/exc_cells.csv', index=False)"
   ]
  },
  {
   "cell_type": "code",
   "execution_count": 12,
   "metadata": {},
   "outputs": [
    {
     "name": "stderr",
     "output_type": "stream",
     "text": [
      "Using deprecated pyarrow serialization method, please upgrade CAVEClient>=5.9.0 with pip install --upgrade caveclient\n"
     ]
    }
   ],
   "source": [
    "inp_synapses = client.download_input_synapses(int(exc_cells.loc[100]['pt_root_id']), exc_cells)"
   ]
  },
  {
   "cell_type": "code",
   "execution_count": 13,
   "metadata": {},
   "outputs": [
    {
     "data": {
      "text/html": [
       "<div>\n",
       "<style scoped>\n",
       "    .dataframe tbody tr th:only-of-type {\n",
       "        vertical-align: middle;\n",
       "    }\n",
       "\n",
       "    .dataframe tbody tr th {\n",
       "        vertical-align: top;\n",
       "    }\n",
       "\n",
       "    .dataframe thead th {\n",
       "        text-align: right;\n",
       "    }\n",
       "</style>\n",
       "<table border=\"1\" class=\"dataframe\">\n",
       "  <thead>\n",
       "    <tr style=\"text-align: right;\">\n",
       "      <th></th>\n",
       "      <th>id</th>\n",
       "      <th>pre_pt_root_id</th>\n",
       "      <th>post_pt_root_id</th>\n",
       "      <th>size</th>\n",
       "      <th>cell_type_pre</th>\n",
       "      <th>cell_type_post</th>\n",
       "      <th>ctr_pt_x</th>\n",
       "      <th>ctr_pt_y</th>\n",
       "      <th>ctr_pt_z</th>\n",
       "    </tr>\n",
       "  </thead>\n",
       "  <tbody>\n",
       "    <tr>\n",
       "      <th>0</th>\n",
       "      <td>16569774</td>\n",
       "      <td>864691135315207470</td>\n",
       "      <td>864691136175025414</td>\n",
       "      <td>7420</td>\n",
       "      <td>Unknown</td>\n",
       "      <td>23P</td>\n",
       "      <td>368.840</td>\n",
       "      <td>458.104</td>\n",
       "      <td>725.80</td>\n",
       "    </tr>\n",
       "    <tr>\n",
       "      <th>1</th>\n",
       "      <td>31643589</td>\n",
       "      <td>864691135325253678</td>\n",
       "      <td>864691136175025414</td>\n",
       "      <td>572</td>\n",
       "      <td>Unknown</td>\n",
       "      <td>23P</td>\n",
       "      <td>415.096</td>\n",
       "      <td>450.320</td>\n",
       "      <td>766.76</td>\n",
       "    </tr>\n",
       "    <tr>\n",
       "      <th>2</th>\n",
       "      <td>16781211</td>\n",
       "      <td>864691135653107859</td>\n",
       "      <td>864691136175025414</td>\n",
       "      <td>2876</td>\n",
       "      <td>Unknown</td>\n",
       "      <td>23P</td>\n",
       "      <td>361.336</td>\n",
       "      <td>470.976</td>\n",
       "      <td>742.80</td>\n",
       "    </tr>\n",
       "    <tr>\n",
       "      <th>3</th>\n",
       "      <td>44934067</td>\n",
       "      <td>864691136122666321</td>\n",
       "      <td>864691136175025414</td>\n",
       "      <td>1808</td>\n",
       "      <td>Unknown</td>\n",
       "      <td>23P</td>\n",
       "      <td>450.768</td>\n",
       "      <td>461.840</td>\n",
       "      <td>775.36</td>\n",
       "    </tr>\n",
       "    <tr>\n",
       "      <th>4</th>\n",
       "      <td>9634201</td>\n",
       "      <td>864691134997035473</td>\n",
       "      <td>864691136175025414</td>\n",
       "      <td>1216</td>\n",
       "      <td>Unknown</td>\n",
       "      <td>23P</td>\n",
       "      <td>337.520</td>\n",
       "      <td>424.920</td>\n",
       "      <td>711.04</td>\n",
       "    </tr>\n",
       "  </tbody>\n",
       "</table>\n",
       "</div>"
      ],
      "text/plain": [
       "         id      pre_pt_root_id     post_pt_root_id  size cell_type_pre  \\\n",
       "0  16569774  864691135315207470  864691136175025414  7420       Unknown   \n",
       "1  31643589  864691135325253678  864691136175025414   572       Unknown   \n",
       "2  16781211  864691135653107859  864691136175025414  2876       Unknown   \n",
       "3  44934067  864691136122666321  864691136175025414  1808       Unknown   \n",
       "4   9634201  864691134997035473  864691136175025414  1216       Unknown   \n",
       "\n",
       "  cell_type_post  ctr_pt_x  ctr_pt_y  ctr_pt_z  \n",
       "0            23P   368.840   458.104    725.80  \n",
       "1            23P   415.096   450.320    766.76  \n",
       "2            23P   361.336   470.976    742.80  \n",
       "3            23P   450.768   461.840    775.36  \n",
       "4            23P   337.520   424.920    711.04  "
      ]
     },
     "execution_count": 13,
     "metadata": {},
     "output_type": "execute_result"
    }
   ],
   "source": [
    "inp_synapses.head()"
   ]
  },
  {
   "cell_type": "code",
   "execution_count": 14,
   "metadata": {},
   "outputs": [
    {
     "data": {
      "text/plain": [
       "2118"
      ]
     },
     "execution_count": 14,
     "metadata": {},
     "output_type": "execute_result"
    }
   ],
   "source": [
    "len(inp_synapses)"
   ]
  },
  {
   "cell_type": "code",
   "execution_count": 16,
   "metadata": {},
   "outputs": [
    {
     "data": {
      "text/html": [
       "<div>\n",
       "<style scoped>\n",
       "    .dataframe tbody tr th:only-of-type {\n",
       "        vertical-align: middle;\n",
       "    }\n",
       "\n",
       "    .dataframe tbody tr th {\n",
       "        vertical-align: top;\n",
       "    }\n",
       "\n",
       "    .dataframe thead th {\n",
       "        text-align: right;\n",
       "    }\n",
       "</style>\n",
       "<table border=\"1\" class=\"dataframe\">\n",
       "  <thead>\n",
       "    <tr style=\"text-align: right;\">\n",
       "      <th></th>\n",
       "      <th>id</th>\n",
       "      <th>pre_pt_root_id</th>\n",
       "      <th>post_pt_root_id</th>\n",
       "      <th>size</th>\n",
       "      <th>cell_type_pre</th>\n",
       "      <th>cell_type_post</th>\n",
       "      <th>ctr_pt_x</th>\n",
       "      <th>ctr_pt_y</th>\n",
       "      <th>ctr_pt_z</th>\n",
       "    </tr>\n",
       "  </thead>\n",
       "  <tbody>\n",
       "    <tr>\n",
       "      <th>490</th>\n",
       "      <td>36476187</td>\n",
       "      <td>864691135991510209</td>\n",
       "      <td>864691136175025414</td>\n",
       "      <td>2328</td>\n",
       "      <td>23P</td>\n",
       "      <td>23P</td>\n",
       "      <td>429.464</td>\n",
       "      <td>430.808</td>\n",
       "      <td>778.52</td>\n",
       "    </tr>\n",
       "    <tr>\n",
       "      <th>717</th>\n",
       "      <td>17077104</td>\n",
       "      <td>864691136175025414</td>\n",
       "      <td>864691136175025414</td>\n",
       "      <td>632</td>\n",
       "      <td>23P</td>\n",
       "      <td>23P</td>\n",
       "      <td>359.936</td>\n",
       "      <td>466.608</td>\n",
       "      <td>749.12</td>\n",
       "    </tr>\n",
       "    <tr>\n",
       "      <th>741</th>\n",
       "      <td>37674975</td>\n",
       "      <td>864691135462736285</td>\n",
       "      <td>864691136175025414</td>\n",
       "      <td>1272</td>\n",
       "      <td>4P</td>\n",
       "      <td>23P</td>\n",
       "      <td>437.736</td>\n",
       "      <td>491.976</td>\n",
       "      <td>762.92</td>\n",
       "    </tr>\n",
       "    <tr>\n",
       "      <th>755</th>\n",
       "      <td>16396792</td>\n",
       "      <td>864691135396676641</td>\n",
       "      <td>864691136175025414</td>\n",
       "      <td>444</td>\n",
       "      <td>23P</td>\n",
       "      <td>23P</td>\n",
       "      <td>369.496</td>\n",
       "      <td>449.976</td>\n",
       "      <td>745.92</td>\n",
       "    </tr>\n",
       "    <tr>\n",
       "      <th>1002</th>\n",
       "      <td>44691599</td>\n",
       "      <td>864691135855971374</td>\n",
       "      <td>864691136175025414</td>\n",
       "      <td>2840</td>\n",
       "      <td>4P</td>\n",
       "      <td>23P</td>\n",
       "      <td>445.624</td>\n",
       "      <td>453.168</td>\n",
       "      <td>731.24</td>\n",
       "    </tr>\n",
       "  </tbody>\n",
       "</table>\n",
       "</div>"
      ],
      "text/plain": [
       "            id      pre_pt_root_id     post_pt_root_id  size cell_type_pre  \\\n",
       "490   36476187  864691135991510209  864691136175025414  2328           23P   \n",
       "717   17077104  864691136175025414  864691136175025414   632           23P   \n",
       "741   37674975  864691135462736285  864691136175025414  1272            4P   \n",
       "755   16396792  864691135396676641  864691136175025414   444           23P   \n",
       "1002  44691599  864691135855971374  864691136175025414  2840            4P   \n",
       "\n",
       "     cell_type_post  ctr_pt_x  ctr_pt_y  ctr_pt_z  \n",
       "490             23P   429.464   430.808    778.52  \n",
       "717             23P   359.936   466.608    749.12  \n",
       "741             23P   437.736   491.976    762.92  \n",
       "755             23P   369.496   449.976    745.92  \n",
       "1002            23P   445.624   453.168    731.24  "
      ]
     },
     "execution_count": 16,
     "metadata": {},
     "output_type": "execute_result"
    }
   ],
   "source": [
    "inp_synapses[inp_synapses['cell_type_pre'] != 'Unknown'].head()"
   ]
  },
  {
   "cell_type": "code",
   "execution_count": 18,
   "metadata": {},
   "outputs": [
    {
     "data": {
      "text/plain": [
       "'23P'"
      ]
     },
     "execution_count": 18,
     "metadata": {},
     "output_type": "execute_result"
    }
   ],
   "source": [
    "CAVE.get_cell_type(int(exc_cells.loc[0]['pt_root_id']), exc_cells)"
   ]
  },
  {
   "cell_type": "code",
   "execution_count": 19,
   "metadata": {},
   "outputs": [
    {
     "data": {
      "text/plain": [
       "'23P'"
      ]
     },
     "execution_count": 19,
     "metadata": {},
     "output_type": "execute_result"
    }
   ],
   "source": [
    "exc_cells[exc_cells['pt_root_id'] == int(exc_cells.loc[0]['pt_root_id'])]['cell_type'].item()"
   ]
  },
  {
   "cell_type": "code",
   "execution_count": null,
   "metadata": {},
   "outputs": [],
   "source": []
  }
 ],
 "metadata": {
  "kernelspec": {
   "display_name": "microns",
   "language": "python",
   "name": "python3"
  },
  "language_info": {
   "codemirror_mode": {
    "name": "ipython",
    "version": 3
   },
   "file_extension": ".py",
   "mimetype": "text/x-python",
   "name": "python",
   "nbconvert_exporter": "python",
   "pygments_lexer": "ipython3",
   "version": "3.8.10"
  }
 },
 "nbformat": 4,
 "nbformat_minor": 2
}
