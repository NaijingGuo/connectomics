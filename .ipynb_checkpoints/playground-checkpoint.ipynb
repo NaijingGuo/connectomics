{
 "cells": [
  {
   "cell_type": "code",
   "execution_count": 1,
   "metadata": {},
   "outputs": [],
   "source": [
    "from caveclient import CAVEclient"
   ]
  },
  {
   "cell_type": "code",
   "execution_count": 2,
   "metadata": {},
   "outputs": [],
   "source": [
    "# Versions: 117 and 343 and 661\n",
    "client = CAVEclient('minnie65_public_v343')"
   ]
  },
  {
   "cell_type": "code",
   "execution_count": 3,
   "metadata": {},
   "outputs": [
    {
     "data": {
      "text/plain": [
       "['synapses_pni_2',\n",
       " 'nucleus_neuron_svm',\n",
       " 'nucleus_detection_v0',\n",
       " 'functional_coreg',\n",
       " 'allen_v1_column_types_slanted',\n",
       " 'aibs_column_nonneuronal',\n",
       " 'func_unit_em_match_release',\n",
       " 'proofreading_status_public_release',\n",
       " 'aibs_soma_nuc_metamodel_preds_v117']"
      ]
     },
     "execution_count": 3,
     "metadata": {},
     "output_type": "execute_result"
    }
   ],
   "source": [
    "client.materialize.get_tables()"
   ]
  },
  {
   "cell_type": "code",
   "execution_count": 4,
   "metadata": {},
   "outputs": [
    {
     "name": "stderr",
     "output_type": "stream",
     "text": [
      "Suffixes is deprecated for complex queries as it can be ambiguous what you desire, please pass suffix_map as a dictionary to explicitly set suffixes for individual tables. Upgrade caveclient to >=5.0.0\n"
     ]
    }
   ],
   "source": [
    "#get all the clean cells, filter for only those with clean axons\n",
    "clean_df = client.materialize.query_table('proofreading_status_public_release', \n",
    "                                       filter_in_dict={'status_axon':['clean', 'extended']})\n",
    "\n",
    "\n",
    "#get all the soma predictions\n",
    "ct_df=client.materialize.query_table('aibs_soma_nuc_metamodel_preds_v117')"
   ]
  },
  {
   "cell_type": "code",
   "execution_count": 5,
   "metadata": {},
   "outputs": [
    {
     "ename": "HTTPError",
     "evalue": "500 Server Error: INTERNAL SERVER ERROR for url: https://minnie.microns-daf.com/materialize/api/v2/datastack/minnie65_public_v343/version/343/query?return_pyarrow=True&split_positions=True content:b'{\"message\": \"Internal Server Error\"}\\n'",
     "output_type": "error",
     "traceback": [
      "\u001b[0;31m---------------------------------------------------------------------------\u001b[0m",
      "\u001b[0;31mHTTPError\u001b[0m                                 Traceback (most recent call last)",
      "Cell \u001b[0;32mIn[5], line 3\u001b[0m\n\u001b[1;32m      1\u001b[0m \u001b[39m# NOTE: we crashed the server with our first query, try limiting output to 1,000\u001b[39;00m\n\u001b[1;32m      2\u001b[0m excite_types \u001b[39m=\u001b[39m [\u001b[39m'\u001b[39m\u001b[39m23P\u001b[39m\u001b[39m'\u001b[39m, \u001b[39m'\u001b[39m\u001b[39m4P\u001b[39m\u001b[39m'\u001b[39m, \u001b[39m'\u001b[39m\u001b[39m5P-IT\u001b[39m\u001b[39m'\u001b[39m, \u001b[39m'\u001b[39m\u001b[39m5P-ET\u001b[39m\u001b[39m'\u001b[39m, \u001b[39m'\u001b[39m\u001b[39m5P-NP\u001b[39m\u001b[39m'\u001b[39m, \u001b[39m'\u001b[39m\u001b[39m6P-IT\u001b[39m\u001b[39m'\u001b[39m, \u001b[39m'\u001b[39m\u001b[39m6P-CT\u001b[39m\u001b[39m'\u001b[39m]\n\u001b[0;32m----> 3\u001b[0m ct_df\u001b[39m=\u001b[39mclient\u001b[39m.\u001b[39;49mmaterialize\u001b[39m.\u001b[39;49mquery_table(\u001b[39m'\u001b[39;49m\u001b[39maibs_soma_nuc_metamodel_preds_v117\u001b[39;49m\u001b[39m'\u001b[39;49m,\n\u001b[1;32m      4\u001b[0m                                      filter_equal_dict \u001b[39m=\u001b[39;49m {\u001b[39m'\u001b[39;49m\u001b[39mcell_type\u001b[39;49m\u001b[39m'\u001b[39;49m: excite_types},\n\u001b[1;32m      5\u001b[0m                                      select_columns\u001b[39m=\u001b[39;49m[\u001b[39m'\u001b[39;49m\u001b[39mpt_root_id\u001b[39;49m\u001b[39m'\u001b[39;49m, \u001b[39m'\u001b[39;49m\u001b[39mpt_position\u001b[39;49m\u001b[39m'\u001b[39;49m, \u001b[39m'\u001b[39;49m\u001b[39mcell_type\u001b[39;49m\u001b[39m'\u001b[39;49m],\n\u001b[1;32m      6\u001b[0m                                      limit\u001b[39m=\u001b[39;49m\u001b[39m1000\u001b[39;49m)\n\u001b[1;32m      8\u001b[0m \u001b[39m# Save ct_df to local csv\u001b[39;00m\n\u001b[1;32m      9\u001b[0m ct_df\u001b[39m.\u001b[39mto_csv(\u001b[39m'\u001b[39m\u001b[39mcelltypes.csv\u001b[39m\u001b[39m'\u001b[39m)\n",
      "File \u001b[0;32m~/opt/anaconda3/envs/microns/lib/python3.8/site-packages/caveclient/materializationengine.py:639\u001b[0m, in \u001b[0;36mMaterializatonClientV2.query_table\u001b[0;34m(self, table, filter_in_dict, filter_out_dict, filter_equal_dict, filter_spatial_dict, select_columns, offset, limit, datastack_name, return_df, split_positions, materialization_version, timestamp, metadata, merge_reference, desired_resolution)\u001b[0m\n\u001b[1;32m    616\u001b[0m url, data, query_args, encoding \u001b[39m=\u001b[39m \u001b[39mself\u001b[39m\u001b[39m.\u001b[39m_format_query_components(\n\u001b[1;32m    617\u001b[0m     datastack_name,\n\u001b[1;32m    618\u001b[0m     materialization_version,\n\u001b[0;32m   (...)\u001b[0m\n\u001b[1;32m    629\u001b[0m     limit,\n\u001b[1;32m    630\u001b[0m )\n\u001b[1;32m    632\u001b[0m response \u001b[39m=\u001b[39m \u001b[39mself\u001b[39m\u001b[39m.\u001b[39msession\u001b[39m.\u001b[39mpost(\n\u001b[1;32m    633\u001b[0m     url,\n\u001b[1;32m    634\u001b[0m     data\u001b[39m=\u001b[39mjson\u001b[39m.\u001b[39mdumps(data, \u001b[39mcls\u001b[39m\u001b[39m=\u001b[39mBaseEncoder),\n\u001b[0;32m   (...)\u001b[0m\n\u001b[1;32m    637\u001b[0m     stream\u001b[39m=\u001b[39m\u001b[39m~\u001b[39mreturn_df,\n\u001b[1;32m    638\u001b[0m )\n\u001b[0;32m--> 639\u001b[0m \u001b[39mself\u001b[39;49m\u001b[39m.\u001b[39;49mraise_for_status(response)\n\u001b[1;32m    640\u001b[0m \u001b[39mif\u001b[39;00m return_df:\n\u001b[1;32m    641\u001b[0m     \u001b[39mwith\u001b[39;00m warnings\u001b[39m.\u001b[39mcatch_warnings():\n",
      "File \u001b[0;32m~/opt/anaconda3/envs/microns/lib/python3.8/site-packages/caveclient/base.py:211\u001b[0m, in \u001b[0;36mClientBase.raise_for_status\u001b[0;34m(r)\u001b[0m\n\u001b[1;32m    207\u001b[0m \u001b[39m@staticmethod\u001b[39m\n\u001b[1;32m    208\u001b[0m \u001b[39mdef\u001b[39;00m \u001b[39mraise_for_status\u001b[39m(r):\n\u001b[1;32m    209\u001b[0m \u001b[39m    \u001b[39m\u001b[39m\"\"\"Raises :class:`HTTPError`, if one occurred.\"\"\"\u001b[39;00m\n\u001b[0;32m--> 211\u001b[0m     _raise_for_status(r)\n",
      "File \u001b[0;32m~/opt/anaconda3/envs/microns/lib/python3.8/site-packages/caveclient/base.py:70\u001b[0m, in \u001b[0;36m_raise_for_status\u001b[0;34m(r)\u001b[0m\n\u001b[1;32m     62\u001b[0m     http_error_msg \u001b[39m=\u001b[39m \u001b[39m\"\u001b[39m\u001b[39m%s\u001b[39;00m\u001b[39m Server Error: \u001b[39m\u001b[39m%s\u001b[39;00m\u001b[39m for url: \u001b[39m\u001b[39m%s\u001b[39;00m\u001b[39m content:\u001b[39m\u001b[39m%s\u001b[39;00m\u001b[39m\"\u001b[39m \u001b[39m%\u001b[39m (\n\u001b[1;32m     63\u001b[0m         r\u001b[39m.\u001b[39mstatus_code,\n\u001b[1;32m     64\u001b[0m         reason,\n\u001b[1;32m     65\u001b[0m         r\u001b[39m.\u001b[39murl,\n\u001b[1;32m     66\u001b[0m         r\u001b[39m.\u001b[39mcontent,\n\u001b[1;32m     67\u001b[0m     )\n\u001b[1;32m     69\u001b[0m \u001b[39mif\u001b[39;00m http_error_msg:\n\u001b[0;32m---> 70\u001b[0m     \u001b[39mraise\u001b[39;00m requests\u001b[39m.\u001b[39mHTTPError(http_error_msg, response\u001b[39m=\u001b[39mr)\n\u001b[1;32m     71\u001b[0m warning \u001b[39m=\u001b[39m r\u001b[39m.\u001b[39mheaders\u001b[39m.\u001b[39mget(\u001b[39m\"\u001b[39m\u001b[39mWarning\u001b[39m\u001b[39m\"\u001b[39m)\n\u001b[1;32m     72\u001b[0m \u001b[39mif\u001b[39;00m warning:\n",
      "\u001b[0;31mHTTPError\u001b[0m: 500 Server Error: INTERNAL SERVER ERROR for url: https://minnie.microns-daf.com/materialize/api/v2/datastack/minnie65_public_v343/version/343/query?return_pyarrow=True&split_positions=True content:b'{\"message\": \"Internal Server Error\"}\\n'"
     ]
    }
   ],
   "source": [
    "# NOTE: we crashed the server with our first query, try limiting output to 1,000\n",
    "excite_types = ['23P', '4P', '5P-IT', '5P-ET', '5P-NP', '6P-IT', '6P-CT']\n",
    "ct_df=client.materialize.query_table('aibs_soma_nuc_metamodel_preds_v117',\n",
    "                                     filter_equal_dict = {'cell_type': excite_types},\n",
    "                                     select_columns=['pt_root_id', 'pt_position', 'cell_type'],\n",
    "                                     limit=1000)\n",
    "\n",
    "# Save ct_df to local csv\n",
    "ct_df.to_csv('celltypes.csv')"
   ]
  },
  {
   "cell_type": "code",
   "execution_count": 1,
   "metadata": {},
   "outputs": [
    {
     "ename": "NameError",
     "evalue": "name 'ct_df' is not defined",
     "output_type": "error",
     "traceback": [
      "\u001b[0;31m---------------------------------------------------------------------------\u001b[0m",
      "\u001b[0;31mNameError\u001b[0m                                 Traceback (most recent call last)",
      "Cell \u001b[0;32mIn[1], line 7\u001b[0m\n\u001b[1;32m      4\u001b[0m sns\u001b[39m.\u001b[39mset()\n\u001b[1;32m      6\u001b[0m fig, ax \u001b[39m=\u001b[39m plt\u001b[39m.\u001b[39msubplots(figsize\u001b[39m=\u001b[39m(\u001b[39m10\u001b[39m,\u001b[39m10\u001b[39m))\n\u001b[0;32m----> 7\u001b[0m sns\u001b[39m.\u001b[39mscatterplot(data\u001b[39m=\u001b[39mct_df, x\u001b[39m=\u001b[39m\u001b[39m'\u001b[39m\u001b[39mpt_position_x\u001b[39m\u001b[39m'\u001b[39m, y\u001b[39m=\u001b[39m\u001b[39m'\u001b[39m\u001b[39mpt_position_y\u001b[39m\u001b[39m'\u001b[39m, hue\u001b[39m=\u001b[39m\u001b[39m'\u001b[39m\u001b[39mcell_type\u001b[39m\u001b[39m'\u001b[39m, ax\u001b[39m=\u001b[39max)\n\u001b[1;32m      9\u001b[0m \u001b[39m# Get the synapses\u001b[39;00m\n\u001b[1;32m     10\u001b[0m syn_df \u001b[39m=\u001b[39m client\u001b[39m.\u001b[39mmaterialize\u001b[39m.\u001b[39mquery_table(\u001b[39m'\u001b[39m\u001b[39msynapses_pni_2\u001b[39m\u001b[39m'\u001b[39m,\n\u001b[1;32m     11\u001b[0m                                         filter_equal_dict\u001b[39m=\u001b[39m{\u001b[39m'\u001b[39m\u001b[39mpre_pt_root_id\u001b[39m\u001b[39m'\u001b[39m: \u001b[39m648518346349471113\u001b[39m},\n\u001b[1;32m     12\u001b[0m                                         select_columns\u001b[39m=\u001b[39m[\u001b[39m'\u001b[39m\u001b[39mpre_pt_root_id\u001b[39m\u001b[39m'\u001b[39m, \u001b[39m'\u001b[39m\u001b[39mctr_pt_position\u001b[39m\u001b[39m'\u001b[39m, \u001b[39m'\u001b[39m\u001b[39mpost_pt_root_id\u001b[39m\u001b[39m'\u001b[39m])\n",
      "\u001b[0;31mNameError\u001b[0m: name 'ct_df' is not defined"
     ]
    },
    {
     "data": {
      "image/png": "[encoded data removed]",
      "text/plain": [
       "<Figure size 1000x1000 with 1 Axes>"
      ]
     },
     "metadata": {},
     "output_type": "display_data"
    }
   ],
   "source": [
    "# Plot the cell types\n",
    "import matplotlib.pyplot as plt\n",
    "import seaborn as sns\n",
    "sns.set()\n",
    "\n",
    "fig, ax = plt.subplots(figsize=(10,10))\n",
    "sns.scatterplot(data=ct_df, x='pt_position_x', y='pt_position_y', hue='cell_type', ax=ax)\n",
    "\n",
    "# Get the synapses\n",
    "syn_df = client.materialize.query_table('synapses_pni_2',\n",
    "                                        filter_equal_dict={'pre_pt_root_id': 648518346349471113},\n",
    "                                        select_columns=['pre_pt_root_id', 'ctr_pt_position', 'post_pt_root_id'])"
   ]
  }
 ],
 "metadata": {
  "kernelspec": {
   "display_name": "Python 3 (ipykernel)",
   "language": "python",
   "name": "python3"
  },
  "language_info": {
   "codemirror_mode": {
    "name": "ipython",
    "version": 3
   },
   "file_extension": ".py",
   "mimetype": "text/x-python",
   "name": "python",
   "nbconvert_exporter": "python",
   "pygments_lexer": "ipython3",
   "version": "3.8.10"
  }
 },
 "nbformat": 4,
 "nbformat_minor": 2
}
