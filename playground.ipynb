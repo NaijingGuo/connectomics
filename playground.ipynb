{
 "cells": [
  {
   "cell_type": "code",
   "execution_count": 1,
   "metadata": {},
   "outputs": [],
   "source": [
    "from caveclient import CAVEclient\n",
    "client = CAVEclient()"
   ]
  },
  {
   "cell_type": "code",
   "execution_count": 2,
   "metadata": {},
   "outputs": [],
   "source": [
    "# client.auth.save_token(token=\"e45bb2585f335cc3d79d75d7664e5248\")\n",
    "# client.auth.save_token(token=\"7b4931457adc14b6406d3550520383c5\")"
   ]
  },
  {
   "cell_type": "code",
   "execution_count": 2,
   "metadata": {},
   "outputs": [],
   "source": [
    "# Versions: 117 and 343 and 661\n",
    "client = CAVEclient('minnie65_public_v343')"
   ]
  },
  {
   "cell_type": "code",
   "execution_count": 3,
   "metadata": {},
   "outputs": [
    {
     "data": {
      "text/plain": [
       "['synapses_pni_2',\n",
       " 'nucleus_neuron_svm',\n",
       " 'nucleus_detection_v0',\n",
       " 'functional_coreg',\n",
       " 'allen_v1_column_types_slanted',\n",
       " 'aibs_column_nonneuronal',\n",
       " 'func_unit_em_match_release',\n",
       " 'proofreading_status_public_release',\n",
       " 'aibs_soma_nuc_metamodel_preds_v117']"
      ]
     },
     "execution_count": 3,
     "metadata": {},
     "output_type": "execute_result"
    }
   ],
   "source": [
    "client.materialize.get_tables()"
   ]
  },
  {
   "cell_type": "code",
   "execution_count": 11,
   "metadata": {},
   "outputs": [
    {
     "name": "stderr",
     "output_type": "stream",
     "text": [
      "Suffixes is deprecated for complex queries as it can be ambiguous what you desire, please pass suffix_map as a dictionary to explicitly set suffixes for individual tables. Upgrade caveclient to >=5.0.0\n"
     ]
    }
   ],
   "source": [
    "#get all the clean cells, filter for only those with clean axons\n",
    "clean_df = client.materialize.query_table('proofreading_status_public_release', \n",
    "                                       filter_in_dict={'status_axon':['clean', 'extended']})\n",
    "\n",
    "\n",
    "#get all the soma predictions\n",
    "ct_df=client.materialize.query_table('aibs_soma_nuc_metamodel_preds_v117')"
   ]
  },
  {
   "cell_type": "code",
   "execution_count": 12,
   "metadata": {},
   "outputs": [
    {
     "data": {
      "text/html": [
       "<div>\n",
       "<style scoped>\n",
       "    .dataframe tbody tr th:only-of-type {\n",
       "        vertical-align: middle;\n",
       "    }\n",
       "\n",
       "    .dataframe tbody tr th {\n",
       "        vertical-align: top;\n",
       "    }\n",
       "\n",
       "    .dataframe thead th {\n",
       "        text-align: right;\n",
       "    }\n",
       "</style>\n",
       "<table border=\"1\" class=\"dataframe\">\n",
       "  <thead>\n",
       "    <tr style=\"text-align: right;\">\n",
       "      <th></th>\n",
       "      <th>idref</th>\n",
       "      <th>validref</th>\n",
       "      <th>volume</th>\n",
       "      <th>pt_supervoxel_id</th>\n",
       "      <th>pt_root_id</th>\n",
       "      <th>id</th>\n",
       "      <th>valid</th>\n",
       "      <th>target_id</th>\n",
       "      <th>classification_system</th>\n",
       "      <th>cell_type</th>\n",
       "      <th>pt_position</th>\n",
       "      <th>bb_start_position</th>\n",
       "      <th>bb_end_position</th>\n",
       "    </tr>\n",
       "  </thead>\n",
       "  <tbody>\n",
       "    <tr>\n",
       "      <th>0</th>\n",
       "      <td>498173</td>\n",
       "      <td>t</td>\n",
       "      <td>308.176159</td>\n",
       "      <td>103884538719281829</td>\n",
       "      <td>864691136091295156</td>\n",
       "      <td>553</td>\n",
       "      <td>t</td>\n",
       "      <td>498173</td>\n",
       "      <td>aibs_neuronal</td>\n",
       "      <td>6P-IT</td>\n",
       "      <td>[284688, 211936, 15566]</td>\n",
       "      <td>[nan, nan, nan]</td>\n",
       "      <td>[nan, nan, nan]</td>\n",
       "    </tr>\n",
       "    <tr>\n",
       "      <th>1</th>\n",
       "      <td>487329</td>\n",
       "      <td>t</td>\n",
       "      <td>295.937638</td>\n",
       "      <td>105279407463397326</td>\n",
       "      <td>864691135975935434</td>\n",
       "      <td>4509</td>\n",
       "      <td>t</td>\n",
       "      <td>487329</td>\n",
       "      <td>aibs_neuronal</td>\n",
       "      <td>MC</td>\n",
       "      <td>[294544, 118624, 21745]</td>\n",
       "      <td>[nan, nan, nan]</td>\n",
       "      <td>[nan, nan, nan]</td>\n",
       "    </tr>\n",
       "    <tr>\n",
       "      <th>2</th>\n",
       "      <td>106662</td>\n",
       "      <td>t</td>\n",
       "      <td>230.148178</td>\n",
       "      <td>79524515478544304</td>\n",
       "      <td>864691136084076652</td>\n",
       "      <td>4693</td>\n",
       "      <td>t</td>\n",
       "      <td>106662</td>\n",
       "      <td>aibs_neuronal</td>\n",
       "      <td>23P</td>\n",
       "      <td>[107056, 119248, 19414]</td>\n",
       "      <td>[nan, nan, nan]</td>\n",
       "      <td>[nan, nan, nan]</td>\n",
       "    </tr>\n",
       "    <tr>\n",
       "      <th>3</th>\n",
       "      <td>271350</td>\n",
       "      <td>t</td>\n",
       "      <td>305.328128</td>\n",
       "      <td>87351114324194368</td>\n",
       "      <td>864691135937342005</td>\n",
       "      <td>5061</td>\n",
       "      <td>t</td>\n",
       "      <td>271350</td>\n",
       "      <td>aibs_neuronal</td>\n",
       "      <td>6P-CT</td>\n",
       "      <td>[163920, 235968, 20875]</td>\n",
       "      <td>[nan, nan, nan]</td>\n",
       "      <td>[nan, nan, nan]</td>\n",
       "    </tr>\n",
       "    <tr>\n",
       "      <th>4</th>\n",
       "      <td>456040</td>\n",
       "      <td>t</td>\n",
       "      <td>257.463910</td>\n",
       "      <td>101129507251445952</td>\n",
       "      <td>864691136084057196</td>\n",
       "      <td>8652</td>\n",
       "      <td>t</td>\n",
       "      <td>456040</td>\n",
       "      <td>aibs_neuronal</td>\n",
       "      <td>MC</td>\n",
       "      <td>[264544, 132528, 23988]</td>\n",
       "      <td>[nan, nan, nan]</td>\n",
       "      <td>[nan, nan, nan]</td>\n",
       "    </tr>\n",
       "  </tbody>\n",
       "</table>\n",
       "</div>"
      ],
      "text/plain": [
       "    idref validref      volume    pt_supervoxel_id          pt_root_id    id  \\\n",
       "0  498173        t  308.176159  103884538719281829  864691136091295156   553   \n",
       "1  487329        t  295.937638  105279407463397326  864691135975935434  4509   \n",
       "2  106662        t  230.148178   79524515478544304  864691136084076652  4693   \n",
       "3  271350        t  305.328128   87351114324194368  864691135937342005  5061   \n",
       "4  456040        t  257.463910  101129507251445952  864691136084057196  8652   \n",
       "\n",
       "  valid  target_id classification_system cell_type              pt_position  \\\n",
       "0     t     498173         aibs_neuronal     6P-IT  [284688, 211936, 15566]   \n",
       "1     t     487329         aibs_neuronal        MC  [294544, 118624, 21745]   \n",
       "2     t     106662         aibs_neuronal       23P  [107056, 119248, 19414]   \n",
       "3     t     271350         aibs_neuronal     6P-CT  [163920, 235968, 20875]   \n",
       "4     t     456040         aibs_neuronal        MC  [264544, 132528, 23988]   \n",
       "\n",
       "  bb_start_position  bb_end_position  \n",
       "0   [nan, nan, nan]  [nan, nan, nan]  \n",
       "1   [nan, nan, nan]  [nan, nan, nan]  \n",
       "2   [nan, nan, nan]  [nan, nan, nan]  \n",
       "3   [nan, nan, nan]  [nan, nan, nan]  \n",
       "4   [nan, nan, nan]  [nan, nan, nan]  "
      ]
     },
     "execution_count": 12,
     "metadata": {},
     "output_type": "execute_result"
    }
   ],
   "source": [
    "ct_df.head()"
   ]
  },
  {
   "cell_type": "code",
   "execution_count": 14,
   "metadata": {},
   "outputs": [
    {
     "name": "stderr",
     "output_type": "stream",
     "text": [
      "Suffixes is deprecated for complex queries as it can be ambiguous what you desire, please pass suffix_map as a dictionary to explicitly set suffixes for individual tables. Upgrade caveclient to >=5.0.0, Select_columns is deprecated for join queries, please use select_column_map a dictionary which is more explicit about what columns to select from what tables. This query result will attempt to select the first column it finds of this name in any table, but if there are more than one such column it will not select both. Upgrade caveclient to >=5.0.0 ., 201 - \"Limited query to 10 rows\n"
     ]
    }
   ],
   "source": [
    "# NOTE: we crashed the server with our first query, try limiting output to 1,000\n",
    "excite_types = ['23P', '4P', '5P-IT', '5P-ET', '5P-NP', '6P-IT', '6P-CT']\n",
    "# ct_df=client.materialize.query_table('aibs_soma_nuc_metamodel_preds_v117',\n",
    "#                                      filter_equal_dict = {'cell_type': excite_types},\n",
    "#                                      select_columns=['pt_root_id', 'pt_position', 'cell_type'],\n",
    "#                                      limit=10)\n",
    "\n",
    "ct_df=client.materialize.query_table('aibs_soma_nuc_metamodel_preds_v117',\n",
    "#                                      filter_equal_dict = {'cell_type': excite_types},\n",
    "                                     select_columns=['pt_root_id', 'pt_position', 'cell_type'],\n",
    "                                     limit=10)\n",
    "\n",
    "\n",
    "\n",
    "# Save ct_df to local csv\n",
    "# ct_df.to_csv('./celltypes.csv')"
   ]
  },
  {
   "cell_type": "code",
   "execution_count": 21,
   "metadata": {},
   "outputs": [
    {
     "ename": "HTTPError",
     "evalue": "500 Server Error: INTERNAL SERVER ERROR for url: https://minnie.microns-daf.com/materialize/api/v2/datastack/minnie65_public_v343/version/343/query?return_pyarrow=True&split_positions=True content:b'{\"message\": \"Internal Server Error\"}\\n'",
     "output_type": "error",
     "traceback": [
      "\u001b[0;31m---------------------------------------------------------------------------\u001b[0m",
      "\u001b[0;31mHTTPError\u001b[0m                                 Traceback (most recent call last)",
      "Cell \u001b[0;32mIn[21], line 1\u001b[0m\n\u001b[0;32m----> 1\u001b[0m ct_df\u001b[38;5;241m=\u001b[39m\u001b[43mclient\u001b[49m\u001b[38;5;241;43m.\u001b[39;49m\u001b[43mmaterialize\u001b[49m\u001b[38;5;241;43m.\u001b[39;49m\u001b[43mquery_table\u001b[49m\u001b[43m(\u001b[49m\u001b[38;5;124;43m'\u001b[39;49m\u001b[38;5;124;43maibs_soma_nuc_metamodel_preds_v117\u001b[39;49m\u001b[38;5;124;43m'\u001b[39;49m\u001b[43m,\u001b[49m\n\u001b[1;32m      2\u001b[0m \u001b[43m                                     \u001b[49m\u001b[43mfilter_equal_dict\u001b[49m\u001b[43m \u001b[49m\u001b[38;5;241;43m=\u001b[39;49m\u001b[43m \u001b[49m\u001b[43m{\u001b[49m\u001b[38;5;124;43m'\u001b[39;49m\u001b[38;5;124;43mcell_type\u001b[39;49m\u001b[38;5;124;43m'\u001b[39;49m\u001b[43m:\u001b[49m\u001b[43m \u001b[49m\u001b[43m[\u001b[49m\u001b[38;5;124;43m'\u001b[39;49m\u001b[38;5;124;43m23P\u001b[39;49m\u001b[38;5;124;43m'\u001b[39;49m\u001b[43m,\u001b[49m\u001b[43m \u001b[49m\u001b[38;5;124;43m'\u001b[39;49m\u001b[38;5;124;43m4P\u001b[39;49m\u001b[38;5;124;43m'\u001b[39;49m\u001b[43m]\u001b[49m\u001b[43m}\u001b[49m\u001b[43m,\u001b[49m\n\u001b[1;32m      3\u001b[0m \u001b[43m                                     \u001b[49m\u001b[43mselect_columns\u001b[49m\u001b[38;5;241;43m=\u001b[39;49m\u001b[43m[\u001b[49m\u001b[38;5;124;43m'\u001b[39;49m\u001b[38;5;124;43mpt_root_id\u001b[39;49m\u001b[38;5;124;43m'\u001b[39;49m\u001b[43m,\u001b[49m\u001b[43m \u001b[49m\u001b[38;5;124;43m'\u001b[39;49m\u001b[38;5;124;43mpt_position\u001b[39;49m\u001b[38;5;124;43m'\u001b[39;49m\u001b[43m,\u001b[49m\u001b[43m \u001b[49m\u001b[38;5;124;43m'\u001b[39;49m\u001b[38;5;124;43mcell_type\u001b[39;49m\u001b[38;5;124;43m'\u001b[39;49m\u001b[43m]\u001b[49m\u001b[43m,\u001b[49m\n\u001b[1;32m      4\u001b[0m \u001b[43m                                     \u001b[49m\u001b[43mlimit\u001b[49m\u001b[38;5;241;43m=\u001b[39;49m\u001b[38;5;241;43m10\u001b[39;49m\u001b[43m)\u001b[49m\n",
      "File \u001b[0;32m~/miniconda3/envs/microns/lib/python3.8/site-packages/caveclient/materializationengine.py:639\u001b[0m, in \u001b[0;36mMaterializatonClientV2.query_table\u001b[0;34m(self, table, filter_in_dict, filter_out_dict, filter_equal_dict, filter_spatial_dict, select_columns, offset, limit, datastack_name, return_df, split_positions, materialization_version, timestamp, metadata, merge_reference, desired_resolution)\u001b[0m\n\u001b[1;32m    616\u001b[0m url, data, query_args, encoding \u001b[38;5;241m=\u001b[39m \u001b[38;5;28mself\u001b[39m\u001b[38;5;241m.\u001b[39m_format_query_components(\n\u001b[1;32m    617\u001b[0m     datastack_name,\n\u001b[1;32m    618\u001b[0m     materialization_version,\n\u001b[0;32m   (...)\u001b[0m\n\u001b[1;32m    629\u001b[0m     limit,\n\u001b[1;32m    630\u001b[0m )\n\u001b[1;32m    632\u001b[0m response \u001b[38;5;241m=\u001b[39m \u001b[38;5;28mself\u001b[39m\u001b[38;5;241m.\u001b[39msession\u001b[38;5;241m.\u001b[39mpost(\n\u001b[1;32m    633\u001b[0m     url,\n\u001b[1;32m    634\u001b[0m     data\u001b[38;5;241m=\u001b[39mjson\u001b[38;5;241m.\u001b[39mdumps(data, \u001b[38;5;28mcls\u001b[39m\u001b[38;5;241m=\u001b[39mBaseEncoder),\n\u001b[0;32m   (...)\u001b[0m\n\u001b[1;32m    637\u001b[0m     stream\u001b[38;5;241m=\u001b[39m\u001b[38;5;241m~\u001b[39mreturn_df,\n\u001b[1;32m    638\u001b[0m )\n\u001b[0;32m--> 639\u001b[0m \u001b[38;5;28;43mself\u001b[39;49m\u001b[38;5;241;43m.\u001b[39;49m\u001b[43mraise_for_status\u001b[49m\u001b[43m(\u001b[49m\u001b[43mresponse\u001b[49m\u001b[43m)\u001b[49m\n\u001b[1;32m    640\u001b[0m \u001b[38;5;28;01mif\u001b[39;00m return_df:\n\u001b[1;32m    641\u001b[0m     \u001b[38;5;28;01mwith\u001b[39;00m warnings\u001b[38;5;241m.\u001b[39mcatch_warnings():\n",
      "File \u001b[0;32m~/miniconda3/envs/microns/lib/python3.8/site-packages/caveclient/base.py:211\u001b[0m, in \u001b[0;36mClientBase.raise_for_status\u001b[0;34m(r)\u001b[0m\n\u001b[1;32m    207\u001b[0m \u001b[38;5;129m@staticmethod\u001b[39m\n\u001b[1;32m    208\u001b[0m \u001b[38;5;28;01mdef\u001b[39;00m \u001b[38;5;21mraise_for_status\u001b[39m(r):\n\u001b[1;32m    209\u001b[0m \u001b[38;5;250m    \u001b[39m\u001b[38;5;124;03m\"\"\"Raises :class:`HTTPError`, if one occurred.\"\"\"\u001b[39;00m\n\u001b[0;32m--> 211\u001b[0m     \u001b[43m_raise_for_status\u001b[49m\u001b[43m(\u001b[49m\u001b[43mr\u001b[49m\u001b[43m)\u001b[49m\n",
      "File \u001b[0;32m~/miniconda3/envs/microns/lib/python3.8/site-packages/caveclient/base.py:70\u001b[0m, in \u001b[0;36m_raise_for_status\u001b[0;34m(r)\u001b[0m\n\u001b[1;32m     62\u001b[0m     http_error_msg \u001b[38;5;241m=\u001b[39m \u001b[38;5;124m\"\u001b[39m\u001b[38;5;132;01m%s\u001b[39;00m\u001b[38;5;124m Server Error: \u001b[39m\u001b[38;5;132;01m%s\u001b[39;00m\u001b[38;5;124m for url: \u001b[39m\u001b[38;5;132;01m%s\u001b[39;00m\u001b[38;5;124m content:\u001b[39m\u001b[38;5;132;01m%s\u001b[39;00m\u001b[38;5;124m\"\u001b[39m \u001b[38;5;241m%\u001b[39m (\n\u001b[1;32m     63\u001b[0m         r\u001b[38;5;241m.\u001b[39mstatus_code,\n\u001b[1;32m     64\u001b[0m         reason,\n\u001b[1;32m     65\u001b[0m         r\u001b[38;5;241m.\u001b[39murl,\n\u001b[1;32m     66\u001b[0m         r\u001b[38;5;241m.\u001b[39mcontent,\n\u001b[1;32m     67\u001b[0m     )\n\u001b[1;32m     69\u001b[0m \u001b[38;5;28;01mif\u001b[39;00m http_error_msg:\n\u001b[0;32m---> 70\u001b[0m     \u001b[38;5;28;01mraise\u001b[39;00m requests\u001b[38;5;241m.\u001b[39mHTTPError(http_error_msg, response\u001b[38;5;241m=\u001b[39mr)\n\u001b[1;32m     71\u001b[0m warning \u001b[38;5;241m=\u001b[39m r\u001b[38;5;241m.\u001b[39mheaders\u001b[38;5;241m.\u001b[39mget(\u001b[38;5;124m\"\u001b[39m\u001b[38;5;124mWarning\u001b[39m\u001b[38;5;124m\"\u001b[39m)\n\u001b[1;32m     72\u001b[0m \u001b[38;5;28;01mif\u001b[39;00m warning:\n",
      "\u001b[0;31mHTTPError\u001b[0m: 500 Server Error: INTERNAL SERVER ERROR for url: https://minnie.microns-daf.com/materialize/api/v2/datastack/minnie65_public_v343/version/343/query?return_pyarrow=True&split_positions=True content:b'{\"message\": \"Internal Server Error\"}\\n'"
     ]
    }
   ],
   "source": [
    "ct_df=client.materialize.query_table('aibs_soma_nuc_metamodel_preds_v117',\n",
    "                                     filter_equal_dict = {'cell_type': ['23P', '4P']},\n",
    "                                     select_columns=['pt_root_id', 'pt_position', 'cell_type'],\n",
    "                                     limit=10)"
   ]
  },
  {
   "cell_type": "code",
   "execution_count": 20,
   "metadata": {},
   "outputs": [
    {
     "data": {
      "text/html": [
       "<div>\n",
       "<style scoped>\n",
       "    .dataframe tbody tr th:only-of-type {\n",
       "        vertical-align: middle;\n",
       "    }\n",
       "\n",
       "    .dataframe tbody tr th {\n",
       "        vertical-align: top;\n",
       "    }\n",
       "\n",
       "    .dataframe thead th {\n",
       "        text-align: right;\n",
       "    }\n",
       "</style>\n",
       "<table border=\"1\" class=\"dataframe\">\n",
       "  <thead>\n",
       "    <tr style=\"text-align: right;\">\n",
       "      <th></th>\n",
       "      <th>pt_root_id</th>\n",
       "      <th>cell_type</th>\n",
       "      <th>pt_position</th>\n",
       "    </tr>\n",
       "  </thead>\n",
       "  <tbody>\n",
       "    <tr>\n",
       "      <th>0</th>\n",
       "      <td>864691136084076652</td>\n",
       "      <td>23P</td>\n",
       "      <td>[107056, 119248, 19414]</td>\n",
       "    </tr>\n",
       "    <tr>\n",
       "      <th>1</th>\n",
       "      <td>864691136023825977</td>\n",
       "      <td>23P</td>\n",
       "      <td>[153360, 115904, 17474]</td>\n",
       "    </tr>\n",
       "    <tr>\n",
       "      <th>2</th>\n",
       "      <td>864691135058585499</td>\n",
       "      <td>23P</td>\n",
       "      <td>[215600, 142656, 19870]</td>\n",
       "    </tr>\n",
       "    <tr>\n",
       "      <th>3</th>\n",
       "      <td>864691136297101851</td>\n",
       "      <td>23P</td>\n",
       "      <td>[122640, 123552, 18019]</td>\n",
       "    </tr>\n",
       "    <tr>\n",
       "      <th>4</th>\n",
       "      <td>864691135953750536</td>\n",
       "      <td>23P</td>\n",
       "      <td>[204944, 119168, 18127]</td>\n",
       "    </tr>\n",
       "  </tbody>\n",
       "</table>\n",
       "</div>"
      ],
      "text/plain": [
       "           pt_root_id cell_type              pt_position\n",
       "0  864691136084076652       23P  [107056, 119248, 19414]\n",
       "1  864691136023825977       23P  [153360, 115904, 17474]\n",
       "2  864691135058585499       23P  [215600, 142656, 19870]\n",
       "3  864691136297101851       23P  [122640, 123552, 18019]\n",
       "4  864691135953750536       23P  [204944, 119168, 18127]"
      ]
     },
     "execution_count": 20,
     "metadata": {},
     "output_type": "execute_result"
    }
   ],
   "source": [
    "ct_df.head()"
   ]
  },
  {
   "cell_type": "code",
   "execution_count": 1,
   "metadata": {},
   "outputs": [
    {
     "ename": "NameError",
     "evalue": "name 'ct_df' is not defined",
     "output_type": "error",
     "traceback": [
      "\u001b[0;31m---------------------------------------------------------------------------\u001b[0m",
      "\u001b[0;31mNameError\u001b[0m                                 Traceback (most recent call last)",
      "Cell \u001b[0;32mIn[1], line 7\u001b[0m\n\u001b[1;32m      4\u001b[0m sns\u001b[39m.\u001b[39mset()\n\u001b[1;32m      6\u001b[0m fig, ax \u001b[39m=\u001b[39m plt\u001b[39m.\u001b[39msubplots(figsize\u001b[39m=\u001b[39m(\u001b[39m10\u001b[39m,\u001b[39m10\u001b[39m))\n\u001b[0;32m----> 7\u001b[0m sns\u001b[39m.\u001b[39mscatterplot(data\u001b[39m=\u001b[39mct_df, x\u001b[39m=\u001b[39m\u001b[39m'\u001b[39m\u001b[39mpt_position_x\u001b[39m\u001b[39m'\u001b[39m, y\u001b[39m=\u001b[39m\u001b[39m'\u001b[39m\u001b[39mpt_position_y\u001b[39m\u001b[39m'\u001b[39m, hue\u001b[39m=\u001b[39m\u001b[39m'\u001b[39m\u001b[39mcell_type\u001b[39m\u001b[39m'\u001b[39m, ax\u001b[39m=\u001b[39max)\n\u001b[1;32m      9\u001b[0m \u001b[39m# Get the synapses\u001b[39;00m\n\u001b[1;32m     10\u001b[0m syn_df \u001b[39m=\u001b[39m client\u001b[39m.\u001b[39mmaterialize\u001b[39m.\u001b[39mquery_table(\u001b[39m'\u001b[39m\u001b[39msynapses_pni_2\u001b[39m\u001b[39m'\u001b[39m,\n\u001b[1;32m     11\u001b[0m                                         filter_equal_dict\u001b[39m=\u001b[39m{\u001b[39m'\u001b[39m\u001b[39mpre_pt_root_id\u001b[39m\u001b[39m'\u001b[39m: \u001b[39m648518346349471113\u001b[39m},\n\u001b[1;32m     12\u001b[0m                                         select_columns\u001b[39m=\u001b[39m[\u001b[39m'\u001b[39m\u001b[39mpre_pt_root_id\u001b[39m\u001b[39m'\u001b[39m, \u001b[39m'\u001b[39m\u001b[39mctr_pt_position\u001b[39m\u001b[39m'\u001b[39m, \u001b[39m'\u001b[39m\u001b[39mpost_pt_root_id\u001b[39m\u001b[39m'\u001b[39m])\n",
      "\u001b[0;31mNameError\u001b[0m: name 'ct_df' is not defined"
     ]
    },
    {
     "data": {
      "image/png": "[encoded data removed]",
      "text/plain": [
       "<Figure size 1000x1000 with 1 Axes>"
      ]
     },
     "metadata": {},
     "output_type": "display_data"
    }
   ],
   "source": [
    "# Plot the cell types\n",
    "import matplotlib.pyplot as plt\n",
    "import seaborn as sns\n",
    "sns.set()\n",
    "\n",
    "fig, ax = plt.subplots(figsize=(10,10))\n",
    "sns.scatterplot(data=ct_df, x='pt_position_x', y='pt_position_y', hue='cell_type', ax=ax)\n",
    "\n",
    "# Get the synapses\n",
    "syn_df = client.materialize.query_table('synapses_pni_2',\n",
    "                                        filter_equal_dict={'pre_pt_root_id': 648518346349471113},\n",
    "                                        select_columns=['pre_pt_root_id', 'ctr_pt_position', 'post_pt_root_id'])"
   ]
  }
 ],
 "metadata": {
  "kernelspec": {
   "display_name": "Python 3 (ipykernel)",
   "language": "python",
   "name": "python3"
  },
  "language_info": {
   "codemirror_mode": {
    "name": "ipython",
    "version": 3
   },
   "file_extension": ".py",
   "mimetype": "text/x-python",
   "name": "python",
   "nbconvert_exporter": "python",
   "pygments_lexer": "ipython3",
   "version": "3.8.10"
  }
 },
 "nbformat": 4,
 "nbformat_minor": 2
}
